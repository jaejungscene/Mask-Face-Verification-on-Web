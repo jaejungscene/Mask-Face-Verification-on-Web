{
 "cells": [
  {
   "cell_type": "markdown",
   "metadata": {},
   "source": [
    "# Arcface vs. Cosface vs. Arcface+Cosface"
   ]
  },
  {
   "cell_type": "code",
   "execution_count": 1,
   "metadata": {},
   "outputs": [
    {
     "name": "stdout",
     "output_type": "stream",
     "text": [
      "tensor([4, 6, 0, 5, 5, 3])\n",
      "tensor([0, 1, 2, 3, 4, 5])\n"
     ]
    }
   ],
   "source": [
    "import torch\n",
    "from torch.nn.functional import linear, normalize\n",
    "\n",
    "labels = torch.randint(low=0, high=10, size=(6,))\n",
    "print(labels)\n",
    "index = torch.where(labels!=-1)[0]\n",
    "print(index)"
   ]
  },
  {
   "cell_type": "code",
   "execution_count": 2,
   "metadata": {},
   "outputs": [
    {
     "name": "stdout",
     "output_type": "stream",
     "text": [
      "tensor([[-0.0016, -0.0394, -0.0146,  0.0258, -0.0268],\n",
      "        [ 0.0209, -0.0399,  0.0914, -0.0066,  0.0424],\n",
      "        [-0.0661, -0.0771,  0.0389, -0.0413, -0.0049],\n",
      "        [-0.0681,  0.0132, -0.0275,  0.0343,  0.0055],\n",
      "        [-0.0756, -0.0029,  0.0225, -0.0044, -0.0222],\n",
      "        [-0.0753, -0.0096,  0.1256,  0.0286, -0.0812]],\n",
      "       grad_fn=<ClampBackward1>)\n",
      "torch.Size([6, 5])\n",
      "\n",
      "tensor([1, 0, 0, 2, 4, 1])\n",
      "tensor([0, 1, 2, 3, 4, 5])\n"
     ]
    }
   ],
   "source": [
    "batch_size = 6\n",
    "num_class = 5\n",
    "\n",
    "weights = torch.nn.Parameter(torch.FloatTensor(num_class, 512))\n",
    "torch.nn.init.xavier_uniform_(weights)\n",
    "embed_vec = torch.randn((batch_size,512))\n",
    "logits = linear(normalize(embed_vec), normalize(weights)).clamp(-1,1)\n",
    "print(logits)\n",
    "print(logits.shape)\n",
    "print()\n",
    "\n",
    "labels = torch.randint(low=0, high=num_class, size=(batch_size,))\n",
    "print(labels)\n",
    "index = torch.where(labels!=-1)[0]\n",
    "print(index)\n"
   ]
  },
  {
   "cell_type": "code",
   "execution_count": 3,
   "metadata": {},
   "outputs": [
    {
     "name": "stdout",
     "output_type": "stream",
     "text": [
      "tensor([-0.0394,  0.0209, -0.0661, -0.0275, -0.0222, -0.0096],\n",
      "       grad_fn=<IndexBackward0>)\n"
     ]
    }
   ],
   "source": [
    "target = logits[index, labels[index].view(-1)]\n",
    "print(target)"
   ]
  },
  {
   "cell_type": "code",
   "execution_count": 4,
   "metadata": {},
   "outputs": [
    {
     "data": {
      "text/plain": [
       "tensor([[-0.0159, -5.1361, -0.1460,  0.2579, -0.2678],\n",
       "        [-4.6100, -0.3994,  0.9139, -0.0662,  0.4240],\n",
       "        [-5.3635, -0.7706,  0.3888, -0.4132, -0.0485],\n",
       "        [-0.6811,  0.1322, -5.0339,  0.3428,  0.0551],\n",
       "        [-0.7555, -0.0288,  0.2246, -0.0440, -4.9878],\n",
       "        [-0.7528, -4.8778,  1.2565,  0.2857, -0.8119]], grad_fn=<MulBackward0>)"
      ]
     },
     "execution_count": 4,
     "metadata": {},
     "output_type": "execute_result"
    }
   ],
   "source": [
    "## Arcface(0.5)\n",
    "from marginloss import CombinedMarginLoss\n",
    "softmax = CombinedMarginLoss(s=10, m1=1.0, m2=0.5, m3=0.0)\n",
    "softmax(logits, labels)"
   ]
  },
  {
   "cell_type": "code",
   "execution_count": 5,
   "metadata": {},
   "outputs": [
    {
     "data": {
      "text/plain": [
       "tensor([[-0.0159, -8.6361, -0.1460,  0.2579, -0.2678],\n",
       "        [-8.1100, -0.3994,  0.9139, -0.0662,  0.4240],\n",
       "        [-8.8635, -0.7706,  0.3888, -0.4132, -0.0485],\n",
       "        [-0.6811,  0.1322, -8.5339,  0.3428,  0.0551],\n",
       "        [-0.7555, -0.0288,  0.2246, -0.0440, -8.4878],\n",
       "        [-0.7528, -8.3778,  1.2565,  0.2857, -0.8119]], grad_fn=<MulBackward0>)"
      ]
     },
     "execution_count": 5,
     "metadata": {},
     "output_type": "execute_result"
    }
   ],
   "source": [
    "## Cosface(0.35)\n",
    "softmax = CombinedMarginLoss(s=10, m1=0.0, m2=0.0, m3=0.35)\n",
    "softmax(logits, labels)"
   ]
  },
  {
   "cell_type": "code",
   "execution_count": 6,
   "metadata": {},
   "outputs": [
    {
     "data": {
      "text/plain": [
       "tensor([[ -0.0159, -13.4960,  -0.1460,   0.2579,  -0.2678],\n",
       "        [-13.4221,  -0.3994,   0.9139,  -0.0662,   0.4240],\n",
       "        [-14.7606,  -0.7706,   0.3888,  -0.4132,  -0.0485],\n",
       "        [ -0.6811,   0.1322, -13.4883,   0.3428,   0.0551],\n",
       "        [ -0.7555,  -0.0288,   0.2246,  -0.0440, -13.4837],\n",
       "        [ -0.7528, -13.4699,   1.2565,   0.2857,  -0.8119]],\n",
       "       grad_fn=<MulBackward0>)"
      ]
     },
     "execution_count": 6,
     "metadata": {},
     "output_type": "execute_result"
    }
   ],
   "source": [
    "## Arcface(0.5) + Cosface(0.35)\n",
    "softmax = CombinedMarginLoss(s=10, m1=0.5, m2=0.5, m3=0.35)\n",
    "softmax(logits, labels)"
   ]
  },
  {
   "cell_type": "markdown",
   "metadata": {},
   "source": [
    "# =================="
   ]
  },
  {
   "cell_type": "markdown",
   "metadata": {},
   "source": [
    "# Comparsion"
   ]
  },
  {
   "cell_type": "code",
   "execution_count": 4,
   "metadata": {},
   "outputs": [
    {
     "name": "stdout",
     "output_type": "stream",
     "text": [
      "train dataset length:  5,822,653\n",
      "valid dataset length:  13,233\n",
      "970443\n",
      "2206\n"
     ]
    }
   ],
   "source": [
    "import torch\n",
    "import torch.nn as nn\n",
    "from dataset import get_dataloader\n",
    "from marginloss import CombinedMarginLoss\n",
    "from fclayer import FCSoftmax\n",
    "from model import get_model\n",
    "ROOT_DIR = \"/home/ljj0512/private/workspace/CV-project/Computer-Vision-Project/train\"\n",
    "\n",
    "class args:\n",
    "    device = \"cuda:3\"\n",
    "    local_rank = 3\n",
    "    batch_size = 6\n",
    "    workers = 4\n",
    "\n",
    "train_loader, x, valid_loader, y = get_dataloader(args)\n",
    "print(len(train_loader))\n",
    "print(len(valid_loader))\n"
   ]
  },
  {
   "cell_type": "markdown",
   "metadata": {},
   "source": [
    "## arcface"
   ]
  },
  {
   "cell_type": "code",
   "execution_count": 5,
   "metadata": {},
   "outputs": [],
   "source": [
    "model = get_model(ROOT_DIR).to(args.device)\n",
    "margin_loss = CombinedMarginLoss(64, 1.0, 0.5, 0.0).to(args.device)\n",
    "fc_softmax = FCSoftmax(margin_loss, 512, 85742).to(args.device)\n",
    "criterion = nn.CrossEntropyLoss().to(args.device)"
   ]
  },
  {
   "cell_type": "code",
   "execution_count": 6,
   "metadata": {},
   "outputs": [
    {
     "name": "stdout",
     "output_type": "stream",
     "text": [
      "torch.Size([6, 3, 112, 112])\n",
      "torch.Size([6])\n",
      "tensor([51699, 67147, 23901, 55625, 40658,  3701], device='cuda:3')\n",
      "torch.Size([6, 85742])\n",
      "torch.Size([6])\n"
     ]
    }
   ],
   "source": [
    "for inputs, targets in train_loader:\n",
    "    print(inputs.shape)\n",
    "    print(targets.shape)\n",
    "    print(targets)\n",
    "    embed_vec = model(inputs)\n",
    "    logits = fc_softmax(embed_vec, targets)\n",
    "    loss = criterion(logits, targets)\n",
    "    print(logits.shape)\n",
    "    _, predicted = torch.max(logits.data, dim=1)\n",
    "    print(predicted.shape)\n",
    "    break"
   ]
  },
  {
   "cell_type": "code",
   "execution_count": 7,
   "metadata": {},
   "outputs": [
    {
     "name": "stdout",
     "output_type": "stream",
     "text": [
      "tensor([55173, 44096, 41145, 65458, 32807, 24839], device='cuda:3')\n"
     ]
    }
   ],
   "source": [
    "print(predicted)"
   ]
  },
  {
   "cell_type": "code",
   "execution_count": 10,
   "metadata": {},
   "outputs": [
    {
     "data": {
      "text/plain": [
       "torch.Size([85742, 512])"
      ]
     },
     "execution_count": 10,
     "metadata": {},
     "output_type": "execute_result"
    }
   ],
   "source": [
    "fc_softmax.weights.shape"
   ]
  },
  {
   "cell_type": "code",
   "execution_count": 10,
   "metadata": {},
   "outputs": [
    {
     "name": "stdout",
     "output_type": "stream",
     "text": [
      "torch.Size([6, 3, 112, 112])\n",
      "torch.Size([6])\n",
      "\n",
      "torch.Size([6, 512])\n",
      "torch.Size([6, 85742])\n",
      "torch.Size([6])\n",
      "46.125762939453125\n",
      "finish\n"
     ]
    }
   ],
   "source": [
    "inputs = torch.randn((6,3,112,112))\n",
    "labels = torch.randint(low=0,high=100,size=(6,))\n",
    "print(inputs.shape)\n",
    "print(labels.shape)\n",
    "print()\n",
    "\n",
    "margin_loss = CombinedMarginLoss(64, 1.0, 0.5, 0.0)\n",
    "fc_softmax = FCSoftmax(margin_loss, 512, 85742)\n",
    "criterion = nn.CrossEntropyLoss()\n",
    "\n",
    "# with torch.no_grad():\n",
    "model.train()\n",
    "fc_softmax.train()\n",
    "embed_vec = model(inputs)\n",
    "print(embed_vec.shape)\n",
    "logits = fc_softmax(embed_vec, labels)\n",
    "print(logits.shape)\n",
    "_, predicted = torch.max(logits.data, dim=1)\n",
    "print(predicted.shape)\n",
    "loss = criterion(logits, labels)\n",
    "print(loss.item())\n",
    "print(\"finish\")\n",
    "# model = PartialFC(margin_loss, 512, 93431, 1.0, True)"
   ]
  },
  {
   "cell_type": "code",
   "execution_count": 8,
   "metadata": {},
   "outputs": [
    {
     "name": "stdout",
     "output_type": "stream",
     "text": [
      "=> the number of model parameters: 43,899,904\n"
     ]
    }
   ],
   "source": [
    "print('=> the number of model parameters: {:,}'.format(sum([p.data.nelement() for p in fc_softmax.parameters()])))"
   ]
  }
 ],
 "metadata": {
  "kernelspec": {
   "display_name": "Python 3.8.13 ('torch')",
   "language": "python",
   "name": "python3"
  },
  "language_info": {
   "codemirror_mode": {
    "name": "ipython",
    "version": 3
   },
   "file_extension": ".py",
   "mimetype": "text/x-python",
   "name": "python",
   "nbconvert_exporter": "python",
   "pygments_lexer": "ipython3",
   "version": "3.8.13"
  },
  "orig_nbformat": 4,
  "vscode": {
   "interpreter": {
    "hash": "65fe116ec29312474b580f4ecbad52a94f46ea3a142b15e85ff8e68848a207e7"
   }
  }
 },
 "nbformat": 4,
 "nbformat_minor": 2
}
