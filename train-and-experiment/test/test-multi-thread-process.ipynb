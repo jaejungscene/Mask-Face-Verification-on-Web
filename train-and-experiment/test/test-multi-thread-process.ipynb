{
 "cells": [
  {
   "cell_type": "markdown",
   "metadata": {},
   "source": [
    "# General logic"
   ]
  },
  {
   "cell_type": "code",
   "execution_count": 10,
   "metadata": {},
   "outputs": [
    {
     "name": "stdout",
     "output_type": "stream",
     "text": [
      "[0, 1, 4, 9, 16, 25, 36, 49, 64, 81]\n",
      "[25, 36, 49, 64, 81, 100, 121, 144, 169, 196]\n",
      "elasp time:  8.168215990066528\n",
      "thread finished...exiting\n"
     ]
    }
   ],
   "source": [
    "from threading import Thread\n",
    "from time import sleep\n",
    "import time\n",
    "\n",
    "result = []\n",
    "def threaded_function(arg):\n",
    "    for i in arg:\n",
    "        result.append(square(i))\n",
    "        # sleep(1)\n",
    "\n",
    "def square(x):\n",
    "    # time.sleep(1)\n",
    "    return x**2\n",
    "\n",
    "if __name__ == \"__main__\":\n",
    "    start = time.time()\n",
    "    length = 10000000\n",
    "    args = [x for x in range(5,length)]\n",
    "    for i in args:\n",
    "        result.append(square(i))\n",
    "    print(list(map(square,[x for x in range(length)]))[:10])\n",
    "    print(result[:10])\n",
    "    print(\"elasp time: \",time.time()-start)\n",
    "    print(\"thread finished...exiting\")"
   ]
  },
  {
   "cell_type": "markdown",
   "metadata": {},
   "source": [
    "# multi thread"
   ]
  },
  {
   "cell_type": "code",
   "execution_count": 11,
   "metadata": {},
   "outputs": [
    {
     "name": "stdout",
     "output_type": "stream",
     "text": [
      "[0, 1, 4, 9, 16, 25, 36, 49, 64, 81]\n",
      "[25, 36, 49, 64, 81, 100, 121, 144, 169, 196]\n",
      "elasp time:  8.230698347091675\n",
      "thread finished...exiting\n"
     ]
    }
   ],
   "source": [
    "from threading import Thread\n",
    "from time import sleep\n",
    "import time\n",
    "\n",
    "result = []\n",
    "def threaded_function(arg):\n",
    "    for i in arg:\n",
    "        result.append(square(i))\n",
    "        # sleep(1)\n",
    "\n",
    "def square(x):\n",
    "    # time.sleep(1)\n",
    "    return x**2\n",
    "\n",
    "if __name__ == \"__main__\":\n",
    "    start = time.time()\n",
    "    length = 10000000\n",
    "    thread = Thread(target = threaded_function, args = ([x for x in range(5,length)], ))\n",
    "    print(list(map(square,[x for x in range(length)]))[:10])\n",
    "    thread.start()\n",
    "    thread.join()\n",
    "    print(result[:10])\n",
    "    print(\"elasp time: \",time.time()-start)\n",
    "    print(\"thread finished...exiting\")"
   ]
  },
  {
   "cell_type": "markdown",
   "metadata": {},
   "source": [
    "# multi process"
   ]
  },
  {
   "cell_type": "code",
   "execution_count": 2,
   "metadata": {},
   "outputs": [
    {
     "name": "stdout",
     "output_type": "stream",
     "text": [
      "Without multi-processing 40.037256717681885\n",
      "With multi-processing 0.0005381107330322266\n",
      "[[0, 1, 4, 9, 16, 25, 36, 49, 64, 81], [0, 1, 8, 27, 64, 125, 216, 343, 512, 729]]\n",
      "time took for unpacking result: 2.0047049522399902\n"
     ]
    },
    {
     "data": {
      "text/plain": [
       "0"
      ]
     },
     "execution_count": 2,
     "metadata": {},
     "output_type": "execute_result"
    }
   ],
   "source": [
    "from multiprocessing.pool import ThreadPool as Pool\n",
    "import time\n",
    "\n",
    "def square(x):\n",
    "    time.sleep(1)\n",
    "    return x**2\n",
    "\n",
    "def cube(x):\n",
    "    time.sleep(1)\n",
    "    return x**3\n",
    "\n",
    "# if __name__ == \"__main__\": # uncomment this and add indentation on below code, if using Pool instead of ThreadPool\n",
    "## without mult-processing\n",
    "t = time.time()\n",
    "res1 = list(map(square, [x for x in range(10)]))\n",
    "res2 = list(map(cube, [x for x in range(10)]))\n",
    "print('Without multi-processing', time.time()-t)\n",
    "\n",
    "\n",
    "## with multi-processing\n",
    "p = Pool()\n",
    "t = time.time()\n",
    "res1 = p.map_async(square, [x for x in range(10)])\n",
    "res2 = p.map_async(cube, [x for x in range(10)])\n",
    "print('With multi-processing', time.time()-t)\n",
    "\n",
    "t = time.time()\n",
    "print([res1.get(), res2.get()])\n",
    "print(f\"time took for unpacking result: {time.time()-t}\")\n",
    "0\n"
   ]
  }
 ],
 "metadata": {
  "kernelspec": {
   "display_name": "Python 3.8.13 ('torch')",
   "language": "python",
   "name": "python3"
  },
  "language_info": {
   "codemirror_mode": {
    "name": "ipython",
    "version": 3
   },
   "file_extension": ".py",
   "mimetype": "text/x-python",
   "name": "python",
   "nbconvert_exporter": "python",
   "pygments_lexer": "ipython3",
   "version": "3.8.13"
  },
  "orig_nbformat": 4,
  "vscode": {
   "interpreter": {
    "hash": "65fe116ec29312474b580f4ecbad52a94f46ea3a142b15e85ff8e68848a207e7"
   }
  }
 },
 "nbformat": 4,
 "nbformat_minor": 2
}
